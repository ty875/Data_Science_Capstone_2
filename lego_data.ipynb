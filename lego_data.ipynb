{
 "cells": [
  {
   "cell_type": "markdown",
   "metadata": {},
   "source": [
    "# Import"
   ]
  },
  {
   "cell_type": "code",
   "execution_count": 1,
   "metadata": {},
   "outputs": [],
   "source": [
    "import pandas as pd\n",
    "import numpy as np\n",
    "import csv\n",
    "import math"
   ]
  },
  {
   "cell_type": "markdown",
   "metadata": {},
   "source": [
    "# Cleaning data"
   ]
  },
  {
   "cell_type": "markdown",
   "metadata": {},
   "source": [
    "CPI data only contains data from year 1975 to 2023, so we only import relevant data. "
   ]
  },
  {
   "cell_type": "code",
   "execution_count": 2,
   "metadata": {},
   "outputs": [],
   "source": [
    "data  = pd.DataFrame()\n",
    "for year in range(1975, 2024):\n",
    "    data = pd.concat([data, pd.read_csv('Brickset-Sets'+ str(year)+'.csv')])\n"
   ]
  },
  {
   "cell_type": "markdown",
   "metadata": {},
   "source": [
    "Checking that all the data is in fact in one dataframe"
   ]
  },
  {
   "cell_type": "code",
   "execution_count": 3,
   "metadata": {},
   "outputs": [
    {
     "name": "stdout",
     "output_type": "stream",
     "text": [
      "0      1975\n",
      "1      1975\n",
      "2      1975\n",
      "3      1975\n",
      "4      1975\n",
      "       ... \n",
      "919    2023\n",
      "920    2023\n",
      "921    2023\n",
      "922    2023\n",
      "923    2023\n",
      "Name: Year, Length: 19137, dtype: int64\n"
     ]
    }
   ],
   "source": [
    "print(data.Year)"
   ]
  },
  {
   "cell_type": "markdown",
   "metadata": {},
   "source": [
    "### Checking the price columns"
   ]
  },
  {
   "cell_type": "code",
   "execution_count": 4,
   "metadata": {},
   "outputs": [
    {
     "name": "stdout",
     "output_type": "stream",
     "text": [
      "Index(['Number', 'Theme', 'Subtheme', 'Year', 'Set name', 'Minifigs', 'Pieces',\n",
      "       'RRP (GBP)', 'RRP (USD)', 'RRP (CAD)', 'RRP (EUR)', 'EAN', 'UPC',\n",
      "       'Width', 'Height', 'Depth', 'Weight', 'Notes', 'Qty owned',\n",
      "       'Qty owned new', 'Qty owned used', 'Wanted', 'Qty wanted', 'Priority',\n",
      "       'Unnamed: 24', 'Unnamed: 25', 'Unnamed: 26', 'Unnamed: 27',\n",
      "       'Unnamed: 28', 'Unnamed: 29', 'Unnamed: 30', 'Unnamed: 31',\n",
      "       'Value new (USD)', 'Value used (USD)', 'Launch date', 'Exit date'],\n",
      "      dtype='object')\n"
     ]
    }
   ],
   "source": [
    "print(data.columns)"
   ]
  },
  {
   "cell_type": "markdown",
   "metadata": {},
   "source": [
    "We remove all RRP other than RRP(USD), we can also remove EAN and UPC, the two columns are barcode which is not useful in this project. "
   ]
  },
  {
   "cell_type": "code",
   "execution_count": 5,
   "metadata": {},
   "outputs": [
    {
     "name": "stdout",
     "output_type": "stream",
     "text": [
      "Index(['Number', 'Theme', 'Subtheme', 'Year', 'Set name', 'Minifigs', 'Pieces',\n",
      "       'RRP (USD)', 'Width', 'Height', 'Depth', 'Weight', 'Notes', 'Qty owned',\n",
      "       'Qty owned new', 'Qty owned used', 'Wanted', 'Qty wanted', 'Priority',\n",
      "       'Unnamed: 24', 'Unnamed: 25', 'Unnamed: 26', 'Unnamed: 27',\n",
      "       'Unnamed: 28', 'Unnamed: 29', 'Unnamed: 30', 'Unnamed: 31',\n",
      "       'Value new (USD)', 'Value used (USD)', 'Launch date', 'Exit date'],\n",
      "      dtype='object')\n"
     ]
    }
   ],
   "source": [
    "data = data.drop(['RRP (GBP)', 'RRP (CAD)', 'RRP (EUR)', 'EAN', 'UPC'],axis=1)\n",
    "print(data.columns)"
   ]
  },
  {
   "cell_type": "markdown",
   "metadata": {},
   "source": [
    "Now we check the unamed columns"
   ]
  },
  {
   "cell_type": "code",
   "execution_count": 6,
   "metadata": {},
   "outputs": [
    {
     "name": "stdout",
     "output_type": "stream",
     "text": [
      "0   NaN\n",
      "1   NaN\n",
      "2   NaN\n",
      "3   NaN\n",
      "4   NaN\n",
      "Name: Unnamed: 24, dtype: float64\n",
      "24 19137 19137\n",
      "0   NaN\n",
      "1   NaN\n",
      "2   NaN\n",
      "3   NaN\n",
      "4   NaN\n",
      "Name: Unnamed: 25, dtype: float64\n",
      "25 19137 19137\n",
      "0   NaN\n",
      "1   NaN\n",
      "2   NaN\n",
      "3   NaN\n",
      "4   NaN\n",
      "Name: Unnamed: 26, dtype: float64\n",
      "26 19137 19137\n",
      "0   NaN\n",
      "1   NaN\n",
      "2   NaN\n",
      "3   NaN\n",
      "4   NaN\n",
      "Name: Unnamed: 27, dtype: float64\n",
      "27 19137 19137\n",
      "0   NaN\n",
      "1   NaN\n",
      "2   NaN\n",
      "3   NaN\n",
      "4   NaN\n",
      "Name: Unnamed: 28, dtype: float64\n",
      "28 19137 19137\n",
      "0   NaN\n",
      "1   NaN\n",
      "2   NaN\n",
      "3   NaN\n",
      "4   NaN\n",
      "Name: Unnamed: 29, dtype: float64\n",
      "29 19137 19137\n",
      "0   NaN\n",
      "1   NaN\n",
      "2   NaN\n",
      "3   NaN\n",
      "4   NaN\n",
      "Name: Unnamed: 30, dtype: float64\n",
      "30 19137 19137\n",
      "0   NaN\n",
      "1   NaN\n",
      "2   NaN\n",
      "3   NaN\n",
      "4   NaN\n",
      "Name: Unnamed: 31, dtype: float64\n",
      "31 19137 19137\n",
      "['Unnamed: 24', 'Unnamed: 25', 'Unnamed: 26', 'Unnamed: 27', 'Unnamed: 28', 'Unnamed: 29', 'Unnamed: 30', 'Unnamed: 31']\n"
     ]
    }
   ],
   "source": [
    "unnamed_columns = []\n",
    "for i in range(24, 32):\n",
    "    unnamed_columns.append('Unnamed: ' + str(i))\n",
    "    print(data['Unnamed: ' + str(i)][:5])#making sure that the data are in fact NaN\n",
    "    print(i, len(data['Unnamed: ' + str(i)]),np.isnan(data['Unnamed: '+ str(i)]).count())\n",
    "print(unnamed_columns)"
   ]
  },
  {
   "cell_type": "markdown",
   "metadata": {},
   "source": [
    "In those unnames columns, there is no values associated, it is safe to remove those columns"
   ]
  },
  {
   "cell_type": "code",
   "execution_count": 7,
   "metadata": {},
   "outputs": [
    {
     "name": "stdout",
     "output_type": "stream",
     "text": [
      "Index(['Number', 'Theme', 'Subtheme', 'Year', 'Set name', 'Minifigs', 'Pieces',\n",
      "       'RRP (USD)', 'Width', 'Height', 'Depth', 'Weight', 'Notes', 'Qty owned',\n",
      "       'Qty owned new', 'Qty owned used', 'Wanted', 'Qty wanted', 'Priority',\n",
      "       'Value new (USD)', 'Value used (USD)', 'Launch date', 'Exit date'],\n",
      "      dtype='object')\n"
     ]
    }
   ],
   "source": [
    "data.drop(columns=unnamed_columns, inplace = True)\n",
    "print(data.columns)"
   ]
  },
  {
   "cell_type": "code",
   "execution_count": 8,
   "metadata": {},
   "outputs": [
    {
     "name": "stdout",
     "output_type": "stream",
     "text": [
      "object\n",
      "object\n",
      "object\n",
      "int64\n",
      "object\n",
      "float64\n",
      "float64\n",
      "float64\n",
      "float64\n",
      "float64\n",
      "float64\n",
      "float64\n",
      "float64\n",
      "int64\n",
      "int64\n",
      "int64\n",
      "float64\n",
      "int64\n",
      "int64\n",
      "float64\n",
      "float64\n",
      "object\n",
      "object\n"
     ]
    }
   ],
   "source": [
    "for col in data.columns:\n",
    "    print(data[col].dtype)"
   ]
  },
  {
   "cell_type": "markdown",
   "metadata": {},
   "source": [
    "All of the columns have a data type object, we now need to convert each column's data into appropriate data type. "
   ]
  },
  {
   "cell_type": "markdown",
   "metadata": {},
   "source": [
    "Checking the type of data in uncertain columns"
   ]
  },
  {
   "cell_type": "code",
   "execution_count": 9,
   "metadata": {},
   "outputs": [
    {
     "name": "stdout",
     "output_type": "stream",
     "text": [
      "Number\n",
      "0     75-1\n",
      "1     77-1\n",
      "2    077-1\n",
      "3     78-1\n",
      "4     78-3\n",
      "Name: Number, dtype: object\n",
      "Theme\n",
      "0    PreSchool\n",
      "1    PreSchool\n",
      "2        Duplo\n",
      "3    PreSchool\n",
      "4    Samsonite\n",
      "Name: Theme, dtype: object\n",
      "Subtheme\n",
      "4    Basic set\n",
      "5      4.5/12V\n",
      "6      4.5/12V\n",
      "7      4.5/12V\n",
      "8      4.5/12V\n",
      "Name: Subtheme, dtype: object\n",
      "Year\n",
      "0    1975\n",
      "1    1975\n",
      "2    1975\n",
      "3    1975\n",
      "4    1975\n",
      "Name: Year, dtype: int64\n",
      "Set name\n",
      "0     PreSchool Set\n",
      "1     PreSchool Set\n",
      "2    Pre-School Set\n",
      "3     PreSchool Set\n",
      "4         Basic Set\n",
      "Name: Set name, dtype: object\n",
      "Minifigs\n",
      "9     5.0\n",
      "17    2.0\n",
      "18    7.0\n",
      "19    7.0\n",
      "20    8.0\n",
      "Name: Minifigs, dtype: float64\n",
      "Pieces\n",
      "0     16.0\n",
      "1     20.0\n",
      "2     21.0\n",
      "3     32.0\n",
      "4    330.0\n",
      "Name: Pieces, dtype: float64\n",
      "RRP (USD)\n",
      "13     1.00\n",
      "35    14.95\n",
      "0      2.75\n",
      "47    15.00\n",
      "56     5.00\n",
      "Name: RRP (USD), dtype: float64\n",
      "Width\n",
      "40     15.0\n",
      "106    10.5\n",
      "124    19.2\n",
      "111     9.5\n",
      "112     9.5\n",
      "Name: Width, dtype: float64\n",
      "Height\n",
      "40     6.5\n",
      "106    7.0\n",
      "124    9.5\n",
      "111    5.8\n",
      "112    5.8\n",
      "Name: Height, dtype: float64\n",
      "Depth\n",
      "40     4.0\n",
      "106    3.8\n",
      "124    3.8\n",
      "111    3.7\n",
      "112    3.8\n",
      "Name: Depth, dtype: float64\n",
      "Weight\n",
      "145    0.06000\n",
      "9      0.02500\n",
      "36     0.04900\n",
      "41     0.26332\n",
      "59     0.01400\n",
      "Name: Weight, dtype: float64\n",
      "Notes\n",
      "Series([], Name: Notes, dtype: float64)\n",
      "Qty owned\n",
      "0    0\n",
      "1    0\n",
      "2    0\n",
      "3    0\n",
      "4    0\n",
      "Name: Qty owned, dtype: int64\n",
      "Qty owned new\n",
      "0    0\n",
      "1    0\n",
      "2    0\n",
      "3    0\n",
      "4    0\n",
      "Name: Qty owned new, dtype: int64\n",
      "Qty owned used\n",
      "0    0\n",
      "1    0\n",
      "2    0\n",
      "3    0\n",
      "4    0\n",
      "Name: Qty owned used, dtype: int64\n",
      "Wanted\n",
      "Series([], Name: Wanted, dtype: float64)\n",
      "Qty wanted\n",
      "0    0\n",
      "1    0\n",
      "2    0\n",
      "3    0\n",
      "4    0\n",
      "Name: Qty wanted, dtype: int64\n",
      "Priority\n",
      "0    0\n",
      "1    0\n",
      "2    0\n",
      "3    0\n",
      "4    0\n",
      "Name: Priority, dtype: int64\n",
      "Value new (USD)\n",
      "7      159.90\n",
      "9      499.00\n",
      "10    1063.30\n",
      "11     259.90\n",
      "12      47.99\n",
      "Name: Value new (USD), dtype: float64\n",
      "Value used (USD)\n",
      "5     45.75\n",
      "6     38.53\n",
      "7     23.30\n",
      "8     42.82\n",
      "9    150.00\n",
      "Name: Value used (USD), dtype: float64\n",
      "Launch date\n",
      "29     01/06/1996\n",
      "36     01/01/1996\n",
      "37     01/03/1996\n",
      "99     01/07/1996\n",
      "100    01/09/1996\n",
      "Name: Launch date, dtype: object\n",
      "Exit date\n",
      "29     30/09/2000\n",
      "36     31/12/1997\n",
      "37     31/12/2001\n",
      "99     30/01/1999\n",
      "100    31/12/2002\n",
      "Name: Exit date, dtype: object\n"
     ]
    }
   ],
   "source": [
    "for col in data.columns:\n",
    "    print(col)\n",
    "    print(data[col][pd.notna(data[col])][:5])"
   ]
  },
  {
   "cell_type": "markdown",
   "metadata": {},
   "source": [
    "From the above ouput: Notes column are empty, "
   ]
  },
  {
   "cell_type": "code",
   "execution_count": 10,
   "metadata": {},
   "outputs": [
    {
     "name": "stdout",
     "output_type": "stream",
     "text": [
      "Index(['Number', 'Theme', 'Subtheme', 'Year', 'Set name', 'Minifigs', 'Pieces',\n",
      "       'RRP (USD)', 'Width', 'Height', 'Depth', 'Weight', 'Qty owned',\n",
      "       'Qty owned new', 'Qty owned used', 'Wanted', 'Qty wanted', 'Priority',\n",
      "       'Value new (USD)', 'Value used (USD)', 'Launch date', 'Exit date'],\n",
      "      dtype='object')\n"
     ]
    }
   ],
   "source": [
    "data.drop(columns='Notes', inplace=True)\n",
    "print(data.columns)"
   ]
  },
  {
   "cell_type": "code",
   "execution_count": 11,
   "metadata": {},
   "outputs": [],
   "source": [
    "data['Number'] = data['Number'].astype('string')\n",
    "data['Theme'] = data['Theme'].astype('string')\n",
    "data['Subtheme'] = data['Subtheme'].astype('string')\n",
    "data['Set name'] = data['Set name'].astype('string')\n",
    "data['Launch date'] = pd.to_datetime(data['Launch date'],format='%d/%m/%Y')\n",
    "data['Exit date'] = pd.to_datetime(data['Exit date'],format='%d/%m/%Y')"
   ]
  },
  {
   "cell_type": "code",
   "execution_count": 12,
   "metadata": {},
   "outputs": [
    {
     "name": "stdout",
     "output_type": "stream",
     "text": [
      "string\n",
      "string\n",
      "string\n",
      "int64\n",
      "string\n",
      "float64\n",
      "float64\n",
      "float64\n",
      "float64\n",
      "float64\n",
      "float64\n",
      "float64\n",
      "int64\n",
      "int64\n",
      "int64\n",
      "float64\n",
      "int64\n",
      "int64\n",
      "float64\n",
      "float64\n",
      "datetime64[ns]\n",
      "datetime64[ns]\n"
     ]
    }
   ],
   "source": [
    "for col in data.columns:\n",
    "    print(data[col].dtype)"
   ]
  },
  {
   "cell_type": "code",
   "execution_count": 13,
   "metadata": {},
   "outputs": [
    {
     "name": "stdout",
     "output_type": "stream",
     "text": [
      "Index(['Number', 'Theme', 'Subtheme', 'Year', 'Set name', 'Minifigs', 'Pieces',\n",
      "       'RRP (USD)', 'Width', 'Height', 'Depth', 'Weight', 'Qty owned',\n",
      "       'Qty owned new', 'Qty owned used', 'Wanted', 'Qty wanted', 'Priority',\n",
      "       'Value new (USD)', 'Value used (USD)', 'Launch date', 'Exit date'],\n",
      "      dtype='object')\n"
     ]
    }
   ],
   "source": [
    "print(data.columns)"
   ]
  },
  {
   "cell_type": "code",
   "execution_count": 14,
   "metadata": {},
   "outputs": [
    {
     "data": {
      "text/plain": [
       "<bound method NDFrame.head of          Number               Theme                Subtheme  Year  \\\n",
       "0          75-1           PreSchool                    <NA>  1975   \n",
       "1          77-1           PreSchool                    <NA>  1975   \n",
       "2         077-1               Duplo                    <NA>  1975   \n",
       "3          78-1           PreSchool                    <NA>  1975   \n",
       "4          78-3           Samsonite               Basic set  1975   \n",
       "..          ...                 ...                     ...   ...   \n",
       "919  SDCC2023-5                Gear                    Pins  2023   \n",
       "920  SDCC2023-6                Gear           Miscellaneous  2023   \n",
       "921  SDCC2023-7                Gear           Miscellaneous  2023   \n",
       "922  SDCC2023-9                Gear  Key Chains/Promotional  2023   \n",
       "923   SONICIK-1  Sonic the Hedgehog             Promotional  2023   \n",
       "\n",
       "                                   Set name  Minifigs  Pieces  RRP (USD)  \\\n",
       "0                             PreSchool Set       NaN    16.0        NaN   \n",
       "1                             PreSchool Set       NaN    20.0        NaN   \n",
       "2                            Pre-School Set       NaN    21.0        NaN   \n",
       "3                             PreSchool Set       NaN    32.0        NaN   \n",
       "4                                 Basic Set       NaN   330.0        NaN   \n",
       "..                                      ...       ...     ...        ...   \n",
       "919                   Brickbuster Video pin       NaN     NaN        NaN   \n",
       "920               Brickbuster Video VHS box       NaN     NaN        NaN   \n",
       "921       Brickbuster Video membership card       NaN     NaN        NaN   \n",
       "922    LEGO Masters 2x4 Gold Metal Keychain       NaN     NaN        NaN   \n",
       "923  LEGO Sonic the Hedgehog Influencer Kit       NaN   615.0        NaN   \n",
       "\n",
       "     Value new (USD)  Value used (USD) Launch date Exit date  \n",
       "0                NaN               NaN         NaT       NaT  \n",
       "1                NaN               NaN         NaT       NaT  \n",
       "2                NaN               NaN         NaT       NaT  \n",
       "3                NaN               NaN         NaT       NaT  \n",
       "4                NaN               NaN         NaT       NaT  \n",
       "..               ...               ...         ...       ...  \n",
       "919              NaN               NaN         NaT       NaT  \n",
       "920              NaN               NaN         NaT       NaT  \n",
       "921              NaN               NaN         NaT       NaT  \n",
       "922              NaN               NaN         NaT       NaT  \n",
       "923              NaN               NaN         NaT       NaT  \n",
       "\n",
       "[19137 rows x 12 columns]>"
      ]
     },
     "execution_count": 14,
     "metadata": {},
     "output_type": "execute_result"
    }
   ],
   "source": [
    "df = data[['Number', 'Theme', 'Subtheme', 'Year', 'Set name', 'Minifigs', 'Pieces',\n",
    "       'RRP (USD)', 'Value new (USD)', 'Value used (USD)', 'Launch date', 'Exit date']]\n",
    "df.head"
   ]
  },
  {
   "cell_type": "code",
   "execution_count": 15,
   "metadata": {},
   "outputs": [
    {
     "name": "stdout",
     "output_type": "stream",
     "text": [
      "7391\n",
      "0\n"
     ]
    },
    {
     "name": "stderr",
     "output_type": "stream",
     "text": [
      "/var/folders/5g/q6jfbkkj3rz2mb5hlkd06mkh0000gq/T/ipykernel_4694/1026020644.py:2: SettingWithCopyWarning: \n",
      "A value is trying to be set on a copy of a slice from a DataFrame\n",
      "\n",
      "See the caveats in the documentation: https://pandas.pydata.org/pandas-docs/stable/user_guide/indexing.html#returning-a-view-versus-a-copy\n",
      "  df.dropna(subset=['RRP (USD)'], inplace = True)\n"
     ]
    }
   ],
   "source": [
    "print(df['RRP (USD)'].isna().sum())\n",
    "df.dropna(subset=['RRP (USD)'], inplace = True)\n",
    "print(df['RRP (USD)'].isna().sum())"
   ]
  },
  {
   "cell_type": "code",
   "execution_count": 16,
   "metadata": {},
   "outputs": [
    {
     "name": "stdout",
     "output_type": "stream",
     "text": [
      "<class 'pandas.core.frame.DataFrame'>\n",
      "Index: 11746 entries, 13 to 901\n",
      "Data columns (total 12 columns):\n",
      " #   Column            Non-Null Count  Dtype         \n",
      "---  ------            --------------  -----         \n",
      " 0   Number            11746 non-null  string        \n",
      " 1   Theme             11746 non-null  string        \n",
      " 2   Subtheme          9869 non-null   string        \n",
      " 3   Year              11746 non-null  int64         \n",
      " 4   Set name          11746 non-null  string        \n",
      " 5   Minifigs          6493 non-null   float64       \n",
      " 6   Pieces            9654 non-null   float64       \n",
      " 7   RRP (USD)         11746 non-null  float64       \n",
      " 8   Value new (USD)   9138 non-null   float64       \n",
      " 9   Value used (USD)  8368 non-null   float64       \n",
      " 10  Launch date       6621 non-null   datetime64[ns]\n",
      " 11  Exit date         6621 non-null   datetime64[ns]\n",
      "dtypes: datetime64[ns](2), float64(5), int64(1), string(4)\n",
      "memory usage: 1.2 MB\n",
      "None\n"
     ]
    }
   ],
   "source": [
    "print(df.info())"
   ]
  },
  {
   "cell_type": "code",
   "execution_count": 17,
   "metadata": {},
   "outputs": [],
   "source": [
    "complete_lego  = df.to_csv('complete_lego_price.csv')\n"
   ]
  }
 ],
 "metadata": {
  "kernelspec": {
   "display_name": "Python 3.10.13 ('base')",
   "language": "python",
   "name": "python3"
  },
  "language_info": {
   "codemirror_mode": {
    "name": "ipython",
    "version": 3
   },
   "file_extension": ".py",
   "mimetype": "text/x-python",
   "name": "python",
   "nbconvert_exporter": "python",
   "pygments_lexer": "ipython3",
   "version": "3.10.13"
  },
  "orig_nbformat": 4,
  "vscode": {
   "interpreter": {
    "hash": "e905e4564350e30a6d4158d85bec510172e0213b8a58885fd2cc182fda2c71de"
   }
  }
 },
 "nbformat": 4,
 "nbformat_minor": 2
}
